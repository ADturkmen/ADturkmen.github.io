{
 "cells": [
  {
   "cell_type": "code",
   "execution_count": 364,
   "id": "965a4f3f",
   "metadata": {},
   "outputs": [],
   "source": [
    "import pandas as pd\n",
    "from pandas import Series, DataFrame\n",
    "import numpy as np"
   ]
  },
  {
   "cell_type": "code",
   "execution_count": 365,
   "id": "dbdaa018",
   "metadata": {},
   "outputs": [
    {
     "data": {
      "text/html": [
       "<div>\n",
       "<style scoped>\n",
       "    .dataframe tbody tr th:only-of-type {\n",
       "        vertical-align: middle;\n",
       "    }\n",
       "\n",
       "    .dataframe tbody tr th {\n",
       "        vertical-align: top;\n",
       "    }\n",
       "\n",
       "    .dataframe thead th {\n",
       "        text-align: right;\n",
       "    }\n",
       "</style>\n",
       "<table border=\"1\" class=\"dataframe\">\n",
       "  <thead>\n",
       "    <tr style=\"text-align: right;\">\n",
       "      <th></th>\n",
       "      <th>Time_site</th>\n",
       "      <th>Age</th>\n",
       "      <th>Income_area</th>\n",
       "      <th>Time_internet</th>\n",
       "      <th>Ad_topic</th>\n",
       "      <th>City</th>\n",
       "      <th>Male_gender</th>\n",
       "      <th>Country</th>\n",
       "      <th>Time</th>\n",
       "      <th>Click</th>\n",
       "    </tr>\n",
       "  </thead>\n",
       "  <tbody>\n",
       "    <tr>\n",
       "      <th>0</th>\n",
       "      <td>68.95</td>\n",
       "      <td>35</td>\n",
       "      <td>61833.90</td>\n",
       "      <td>256.09</td>\n",
       "      <td>Cloned 5thgeneration orchestration</td>\n",
       "      <td>Wrightburgh</td>\n",
       "      <td>0</td>\n",
       "      <td>Tunisia</td>\n",
       "      <td>2016-03-27 00:53:11</td>\n",
       "      <td>0</td>\n",
       "    </tr>\n",
       "    <tr>\n",
       "      <th>1</th>\n",
       "      <td>80.23</td>\n",
       "      <td>31</td>\n",
       "      <td>68441.85</td>\n",
       "      <td>193.77</td>\n",
       "      <td>Monitored national standardization</td>\n",
       "      <td>West Jodi</td>\n",
       "      <td>1</td>\n",
       "      <td>Nauru</td>\n",
       "      <td>2016-04-04 01:39:02</td>\n",
       "      <td>0</td>\n",
       "    </tr>\n",
       "    <tr>\n",
       "      <th>2</th>\n",
       "      <td>69.47</td>\n",
       "      <td>26</td>\n",
       "      <td>59785.94</td>\n",
       "      <td>236.50</td>\n",
       "      <td>Organic bottom-line service-desk</td>\n",
       "      <td>Davidton</td>\n",
       "      <td>0</td>\n",
       "      <td>San Marino</td>\n",
       "      <td>2016-03-13 20:35:42</td>\n",
       "      <td>0</td>\n",
       "    </tr>\n",
       "    <tr>\n",
       "      <th>3</th>\n",
       "      <td>74.15</td>\n",
       "      <td>29</td>\n",
       "      <td>54806.18</td>\n",
       "      <td>245.89</td>\n",
       "      <td>Triple-buffered reciprocal time-frame</td>\n",
       "      <td>West Terrifurt</td>\n",
       "      <td>1</td>\n",
       "      <td>Italy</td>\n",
       "      <td>2016-01-10 02:31:19</td>\n",
       "      <td>0</td>\n",
       "    </tr>\n",
       "    <tr>\n",
       "      <th>4</th>\n",
       "      <td>68.37</td>\n",
       "      <td>35</td>\n",
       "      <td>73889.99</td>\n",
       "      <td>225.58</td>\n",
       "      <td>Robust logistical utilization</td>\n",
       "      <td>South Manuel</td>\n",
       "      <td>0</td>\n",
       "      <td>Iceland</td>\n",
       "      <td>2016-06-03 03:36:18</td>\n",
       "      <td>0</td>\n",
       "    </tr>\n",
       "    <tr>\n",
       "      <th>...</th>\n",
       "      <td>...</td>\n",
       "      <td>...</td>\n",
       "      <td>...</td>\n",
       "      <td>...</td>\n",
       "      <td>...</td>\n",
       "      <td>...</td>\n",
       "      <td>...</td>\n",
       "      <td>...</td>\n",
       "      <td>...</td>\n",
       "      <td>...</td>\n",
       "    </tr>\n",
       "    <tr>\n",
       "      <th>995</th>\n",
       "      <td>72.97</td>\n",
       "      <td>30</td>\n",
       "      <td>71384.57</td>\n",
       "      <td>208.58</td>\n",
       "      <td>Fundamental modular algorithm</td>\n",
       "      <td>Duffystad</td>\n",
       "      <td>1</td>\n",
       "      <td>Lebanon</td>\n",
       "      <td>2016-02-11 21:49:00</td>\n",
       "      <td>1</td>\n",
       "    </tr>\n",
       "    <tr>\n",
       "      <th>996</th>\n",
       "      <td>51.30</td>\n",
       "      <td>45</td>\n",
       "      <td>67782.17</td>\n",
       "      <td>134.42</td>\n",
       "      <td>Grass-roots cohesive monitoring</td>\n",
       "      <td>New Darlene</td>\n",
       "      <td>1</td>\n",
       "      <td>Bosnia and Herzegovina</td>\n",
       "      <td>2016-04-22 02:07:01</td>\n",
       "      <td>1</td>\n",
       "    </tr>\n",
       "    <tr>\n",
       "      <th>997</th>\n",
       "      <td>51.63</td>\n",
       "      <td>51</td>\n",
       "      <td>42415.72</td>\n",
       "      <td>120.37</td>\n",
       "      <td>Expanded intangible solution</td>\n",
       "      <td>South Jessica</td>\n",
       "      <td>1</td>\n",
       "      <td>Mongolia</td>\n",
       "      <td>2016-02-01 17:24:57</td>\n",
       "      <td>1</td>\n",
       "    </tr>\n",
       "    <tr>\n",
       "      <th>998</th>\n",
       "      <td>55.55</td>\n",
       "      <td>19</td>\n",
       "      <td>41920.79</td>\n",
       "      <td>187.95</td>\n",
       "      <td>Proactive bandwidth-monitored policy</td>\n",
       "      <td>West Steven</td>\n",
       "      <td>0</td>\n",
       "      <td>Guatemala</td>\n",
       "      <td>2016-03-24 02:35:54</td>\n",
       "      <td>0</td>\n",
       "    </tr>\n",
       "    <tr>\n",
       "      <th>999</th>\n",
       "      <td>45.01</td>\n",
       "      <td>26</td>\n",
       "      <td>29875.80</td>\n",
       "      <td>178.35</td>\n",
       "      <td>Virtual 5thgeneration emulation</td>\n",
       "      <td>Ronniemouth</td>\n",
       "      <td>0</td>\n",
       "      <td>Brazil</td>\n",
       "      <td>2016-06-03 21:43:21</td>\n",
       "      <td>1</td>\n",
       "    </tr>\n",
       "  </tbody>\n",
       "</table>\n",
       "<p>1000 rows × 10 columns</p>\n",
       "</div>"
      ],
      "text/plain": [
       "     Time_site  Age  Income_area  Time_internet  \\\n",
       "0        68.95   35     61833.90         256.09   \n",
       "1        80.23   31     68441.85         193.77   \n",
       "2        69.47   26     59785.94         236.50   \n",
       "3        74.15   29     54806.18         245.89   \n",
       "4        68.37   35     73889.99         225.58   \n",
       "..         ...  ...          ...            ...   \n",
       "995      72.97   30     71384.57         208.58   \n",
       "996      51.30   45     67782.17         134.42   \n",
       "997      51.63   51     42415.72         120.37   \n",
       "998      55.55   19     41920.79         187.95   \n",
       "999      45.01   26     29875.80         178.35   \n",
       "\n",
       "                                  Ad_topic            City  Male_gender  \\\n",
       "0       Cloned 5thgeneration orchestration     Wrightburgh            0   \n",
       "1       Monitored national standardization       West Jodi            1   \n",
       "2         Organic bottom-line service-desk        Davidton            0   \n",
       "3    Triple-buffered reciprocal time-frame  West Terrifurt            1   \n",
       "4            Robust logistical utilization    South Manuel            0   \n",
       "..                                     ...             ...          ...   \n",
       "995          Fundamental modular algorithm       Duffystad            1   \n",
       "996        Grass-roots cohesive monitoring     New Darlene            1   \n",
       "997           Expanded intangible solution   South Jessica            1   \n",
       "998   Proactive bandwidth-monitored policy     West Steven            0   \n",
       "999        Virtual 5thgeneration emulation     Ronniemouth            0   \n",
       "\n",
       "                    Country                 Time  Click  \n",
       "0                   Tunisia  2016-03-27 00:53:11      0  \n",
       "1                     Nauru  2016-04-04 01:39:02      0  \n",
       "2                San Marino  2016-03-13 20:35:42      0  \n",
       "3                     Italy  2016-01-10 02:31:19      0  \n",
       "4                   Iceland  2016-06-03 03:36:18      0  \n",
       "..                      ...                  ...    ...  \n",
       "995                 Lebanon  2016-02-11 21:49:00      1  \n",
       "996  Bosnia and Herzegovina  2016-04-22 02:07:01      1  \n",
       "997                Mongolia  2016-02-01 17:24:57      1  \n",
       "998               Guatemala  2016-03-24 02:35:54      0  \n",
       "999                  Brazil  2016-06-03 21:43:21      1  \n",
       "\n",
       "[1000 rows x 10 columns]"
      ]
     },
     "execution_count": 365,
     "metadata": {},
     "output_type": "execute_result"
    }
   ],
   "source": [
    "#dataset=https://www.kaggle.com/datasets/gopalchettri/advertisement\n",
    "address='C:/Users/adila/Downloads/archivee/advertising.csv'\n",
    "add=pd.read_csv(address)\n",
    "\n",
    "add.columns = ['Time_site', 'Age','Income_area', 'Time_internet', 'Ad_topic', 'City', 'Male_gender', 'Country','Time', 'Click']\n",
    "add"
   ]
  },
  {
   "cell_type": "code",
   "execution_count": 366,
   "id": "a6e94269",
   "metadata": {},
   "outputs": [],
   "source": [
    "add.Time.str.split(pat=':',expand=True)\n",
    "A=add.Time.str.split(pat=':',expand=True)[0]\n",
    "B=A.str.split(pat=' ',expand=True)[1]\n",
    "add['Hour']=B"
   ]
  },
  {
   "cell_type": "code",
   "execution_count": 367,
   "id": "5cf78835",
   "metadata": {},
   "outputs": [
    {
     "data": {
      "text/html": [
       "<div>\n",
       "<style scoped>\n",
       "    .dataframe tbody tr th:only-of-type {\n",
       "        vertical-align: middle;\n",
       "    }\n",
       "\n",
       "    .dataframe tbody tr th {\n",
       "        vertical-align: top;\n",
       "    }\n",
       "\n",
       "    .dataframe thead th {\n",
       "        text-align: right;\n",
       "    }\n",
       "</style>\n",
       "<table border=\"1\" class=\"dataframe\">\n",
       "  <thead>\n",
       "    <tr style=\"text-align: right;\">\n",
       "      <th></th>\n",
       "      <th>Time_site</th>\n",
       "      <th>Age</th>\n",
       "      <th>Income_area</th>\n",
       "      <th>Time_internet</th>\n",
       "      <th>Ad_topic</th>\n",
       "      <th>City</th>\n",
       "      <th>Male_gender</th>\n",
       "      <th>Country</th>\n",
       "      <th>Time</th>\n",
       "      <th>Click</th>\n",
       "      <th>Hour</th>\n",
       "    </tr>\n",
       "  </thead>\n",
       "  <tbody>\n",
       "    <tr>\n",
       "      <th>0</th>\n",
       "      <td>68.95</td>\n",
       "      <td>35</td>\n",
       "      <td>61833.90</td>\n",
       "      <td>256.09</td>\n",
       "      <td>Cloned 5thgeneration orchestration</td>\n",
       "      <td>Wrightburgh</td>\n",
       "      <td>0</td>\n",
       "      <td>Tunisia</td>\n",
       "      <td>2016-03-27 00:53:11</td>\n",
       "      <td>0</td>\n",
       "      <td>00</td>\n",
       "    </tr>\n",
       "    <tr>\n",
       "      <th>1</th>\n",
       "      <td>80.23</td>\n",
       "      <td>31</td>\n",
       "      <td>68441.85</td>\n",
       "      <td>193.77</td>\n",
       "      <td>Monitored national standardization</td>\n",
       "      <td>West Jodi</td>\n",
       "      <td>1</td>\n",
       "      <td>Nauru</td>\n",
       "      <td>2016-04-04 01:39:02</td>\n",
       "      <td>0</td>\n",
       "      <td>01</td>\n",
       "    </tr>\n",
       "    <tr>\n",
       "      <th>2</th>\n",
       "      <td>69.47</td>\n",
       "      <td>26</td>\n",
       "      <td>59785.94</td>\n",
       "      <td>236.50</td>\n",
       "      <td>Organic bottom-line service-desk</td>\n",
       "      <td>Davidton</td>\n",
       "      <td>0</td>\n",
       "      <td>San Marino</td>\n",
       "      <td>2016-03-13 20:35:42</td>\n",
       "      <td>0</td>\n",
       "      <td>20</td>\n",
       "    </tr>\n",
       "    <tr>\n",
       "      <th>3</th>\n",
       "      <td>74.15</td>\n",
       "      <td>29</td>\n",
       "      <td>54806.18</td>\n",
       "      <td>245.89</td>\n",
       "      <td>Triple-buffered reciprocal time-frame</td>\n",
       "      <td>West Terrifurt</td>\n",
       "      <td>1</td>\n",
       "      <td>Italy</td>\n",
       "      <td>2016-01-10 02:31:19</td>\n",
       "      <td>0</td>\n",
       "      <td>02</td>\n",
       "    </tr>\n",
       "    <tr>\n",
       "      <th>4</th>\n",
       "      <td>68.37</td>\n",
       "      <td>35</td>\n",
       "      <td>73889.99</td>\n",
       "      <td>225.58</td>\n",
       "      <td>Robust logistical utilization</td>\n",
       "      <td>South Manuel</td>\n",
       "      <td>0</td>\n",
       "      <td>Iceland</td>\n",
       "      <td>2016-06-03 03:36:18</td>\n",
       "      <td>0</td>\n",
       "      <td>03</td>\n",
       "    </tr>\n",
       "    <tr>\n",
       "      <th>...</th>\n",
       "      <td>...</td>\n",
       "      <td>...</td>\n",
       "      <td>...</td>\n",
       "      <td>...</td>\n",
       "      <td>...</td>\n",
       "      <td>...</td>\n",
       "      <td>...</td>\n",
       "      <td>...</td>\n",
       "      <td>...</td>\n",
       "      <td>...</td>\n",
       "      <td>...</td>\n",
       "    </tr>\n",
       "    <tr>\n",
       "      <th>995</th>\n",
       "      <td>72.97</td>\n",
       "      <td>30</td>\n",
       "      <td>71384.57</td>\n",
       "      <td>208.58</td>\n",
       "      <td>Fundamental modular algorithm</td>\n",
       "      <td>Duffystad</td>\n",
       "      <td>1</td>\n",
       "      <td>Lebanon</td>\n",
       "      <td>2016-02-11 21:49:00</td>\n",
       "      <td>1</td>\n",
       "      <td>21</td>\n",
       "    </tr>\n",
       "    <tr>\n",
       "      <th>996</th>\n",
       "      <td>51.30</td>\n",
       "      <td>45</td>\n",
       "      <td>67782.17</td>\n",
       "      <td>134.42</td>\n",
       "      <td>Grass-roots cohesive monitoring</td>\n",
       "      <td>New Darlene</td>\n",
       "      <td>1</td>\n",
       "      <td>Bosnia and Herzegovina</td>\n",
       "      <td>2016-04-22 02:07:01</td>\n",
       "      <td>1</td>\n",
       "      <td>02</td>\n",
       "    </tr>\n",
       "    <tr>\n",
       "      <th>997</th>\n",
       "      <td>51.63</td>\n",
       "      <td>51</td>\n",
       "      <td>42415.72</td>\n",
       "      <td>120.37</td>\n",
       "      <td>Expanded intangible solution</td>\n",
       "      <td>South Jessica</td>\n",
       "      <td>1</td>\n",
       "      <td>Mongolia</td>\n",
       "      <td>2016-02-01 17:24:57</td>\n",
       "      <td>1</td>\n",
       "      <td>17</td>\n",
       "    </tr>\n",
       "    <tr>\n",
       "      <th>998</th>\n",
       "      <td>55.55</td>\n",
       "      <td>19</td>\n",
       "      <td>41920.79</td>\n",
       "      <td>187.95</td>\n",
       "      <td>Proactive bandwidth-monitored policy</td>\n",
       "      <td>West Steven</td>\n",
       "      <td>0</td>\n",
       "      <td>Guatemala</td>\n",
       "      <td>2016-03-24 02:35:54</td>\n",
       "      <td>0</td>\n",
       "      <td>02</td>\n",
       "    </tr>\n",
       "    <tr>\n",
       "      <th>999</th>\n",
       "      <td>45.01</td>\n",
       "      <td>26</td>\n",
       "      <td>29875.80</td>\n",
       "      <td>178.35</td>\n",
       "      <td>Virtual 5thgeneration emulation</td>\n",
       "      <td>Ronniemouth</td>\n",
       "      <td>0</td>\n",
       "      <td>Brazil</td>\n",
       "      <td>2016-06-03 21:43:21</td>\n",
       "      <td>1</td>\n",
       "      <td>21</td>\n",
       "    </tr>\n",
       "  </tbody>\n",
       "</table>\n",
       "<p>1000 rows × 11 columns</p>\n",
       "</div>"
      ],
      "text/plain": [
       "     Time_site  Age  Income_area  Time_internet  \\\n",
       "0        68.95   35     61833.90         256.09   \n",
       "1        80.23   31     68441.85         193.77   \n",
       "2        69.47   26     59785.94         236.50   \n",
       "3        74.15   29     54806.18         245.89   \n",
       "4        68.37   35     73889.99         225.58   \n",
       "..         ...  ...          ...            ...   \n",
       "995      72.97   30     71384.57         208.58   \n",
       "996      51.30   45     67782.17         134.42   \n",
       "997      51.63   51     42415.72         120.37   \n",
       "998      55.55   19     41920.79         187.95   \n",
       "999      45.01   26     29875.80         178.35   \n",
       "\n",
       "                                  Ad_topic            City  Male_gender  \\\n",
       "0       Cloned 5thgeneration orchestration     Wrightburgh            0   \n",
       "1       Monitored national standardization       West Jodi            1   \n",
       "2         Organic bottom-line service-desk        Davidton            0   \n",
       "3    Triple-buffered reciprocal time-frame  West Terrifurt            1   \n",
       "4            Robust logistical utilization    South Manuel            0   \n",
       "..                                     ...             ...          ...   \n",
       "995          Fundamental modular algorithm       Duffystad            1   \n",
       "996        Grass-roots cohesive monitoring     New Darlene            1   \n",
       "997           Expanded intangible solution   South Jessica            1   \n",
       "998   Proactive bandwidth-monitored policy     West Steven            0   \n",
       "999        Virtual 5thgeneration emulation     Ronniemouth            0   \n",
       "\n",
       "                    Country                 Time  Click Hour  \n",
       "0                   Tunisia  2016-03-27 00:53:11      0   00  \n",
       "1                     Nauru  2016-04-04 01:39:02      0   01  \n",
       "2                San Marino  2016-03-13 20:35:42      0   20  \n",
       "3                     Italy  2016-01-10 02:31:19      0   02  \n",
       "4                   Iceland  2016-06-03 03:36:18      0   03  \n",
       "..                      ...                  ...    ...  ...  \n",
       "995                 Lebanon  2016-02-11 21:49:00      1   21  \n",
       "996  Bosnia and Herzegovina  2016-04-22 02:07:01      1   02  \n",
       "997                Mongolia  2016-02-01 17:24:57      1   17  \n",
       "998               Guatemala  2016-03-24 02:35:54      0   02  \n",
       "999                  Brazil  2016-06-03 21:43:21      1   21  \n",
       "\n",
       "[1000 rows x 11 columns]"
      ]
     },
     "execution_count": 367,
     "metadata": {},
     "output_type": "execute_result"
    }
   ],
   "source": [
    "add"
   ]
  },
  {
   "cell_type": "markdown",
   "id": "7b20f482",
   "metadata": {},
   "source": [
    "Now that I have the hour variable, for simplicity I would like to divide it into 3 as morning, evening and AM"
   ]
  },
  {
   "cell_type": "code",
   "execution_count": 368,
   "id": "40ec4f9a",
   "metadata": {},
   "outputs": [],
   "source": [
    "def func(x):\n",
    "    if 0 < x <= 8:\n",
    "        return 'AM'\n",
    "    elif 8 < x <= 16:\n",
    "        return 'morning'\n",
    "    return 'evening'\n"
   ]
  },
  {
   "cell_type": "code",
   "execution_count": 369,
   "id": "2543eade",
   "metadata": {},
   "outputs": [],
   "source": [
    "add['Hour'] = add['Hour'].astype(int)\n",
    "add['time_cat'] = add['Hour'].apply(func)"
   ]
  },
  {
   "cell_type": "code",
   "execution_count": 370,
   "id": "1f69ca22",
   "metadata": {},
   "outputs": [
    {
     "data": {
      "text/plain": [
       "0      evening\n",
       "1           AM\n",
       "2      evening\n",
       "3           AM\n",
       "4           AM\n",
       "        ...   \n",
       "995    evening\n",
       "996         AM\n",
       "997    evening\n",
       "998         AM\n",
       "999    evening\n",
       "Name: time_cat, Length: 1000, dtype: object"
      ]
     },
     "execution_count": 370,
     "metadata": {},
     "output_type": "execute_result"
    }
   ],
   "source": [
    "add['time_cat'] "
   ]
  },
  {
   "cell_type": "markdown",
   "id": "61a1e7fa",
   "metadata": {},
   "source": [
    "For the sake of the application, I will ignore the ad_topic. I will think as this dataset comes from just one ad and it is the ad for new PureBook."
   ]
  },
  {
   "cell_type": "markdown",
   "id": "03225885",
   "metadata": {},
   "source": [
    "Also, for simplicity, I will ignore cities because due to the country information, we already have a lot of factors even though we do not have a very big dataset."
   ]
  },
  {
   "cell_type": "code",
   "execution_count": 371,
   "id": "0723f88e",
   "metadata": {},
   "outputs": [],
   "source": [
    "add = add.drop('City', axis=1)\n",
    "add = add.drop('Ad_topic', axis=1)"
   ]
  },
  {
   "cell_type": "markdown",
   "id": "b1c0ce39",
   "metadata": {},
   "source": [
    "# AGE"
   ]
  },
  {
   "cell_type": "code",
   "execution_count": 372,
   "id": "bb27ea6e",
   "metadata": {},
   "outputs": [],
   "source": [
    "import matplotlib.pyplot as plt\n",
    "from pylab import rcParams\n",
    "import seaborn as sns\n",
    "import scipy\n",
    "from scipy import stats"
   ]
  },
  {
   "cell_type": "code",
   "execution_count": 373,
   "id": "94987fdb",
   "metadata": {},
   "outputs": [
    {
     "data": {
      "text/plain": [
       "count    1000.000000\n",
       "mean       36.009000\n",
       "std         8.785562\n",
       "min        19.000000\n",
       "25%        29.000000\n",
       "50%        35.000000\n",
       "75%        42.000000\n",
       "max        61.000000\n",
       "Name: Age, dtype: float64"
      ]
     },
     "execution_count": 373,
     "metadata": {},
     "output_type": "execute_result"
    }
   ],
   "source": [
    "add['Age'].describe()"
   ]
  },
  {
   "cell_type": "code",
   "execution_count": 374,
   "id": "f0ac1b02",
   "metadata": {},
   "outputs": [
    {
     "name": "stderr",
     "output_type": "stream",
     "text": [
      "C:\\Users\\adila\\anaconda3\\lib\\site-packages\\seaborn\\distributions.py:2619: FutureWarning: `distplot` is a deprecated function and will be removed in a future version. Please adapt your code to use either `displot` (a figure-level function with similar flexibility) or `kdeplot` (an axes-level function for kernel density plots).\n",
      "  warnings.warn(msg, FutureWarning)\n"
     ]
    },
    {
     "data": {
      "text/plain": [
       "<AxesSubplot:xlabel='Age', ylabel='Density'>"
      ]
     },
     "execution_count": 374,
     "metadata": {},
     "output_type": "execute_result"
    },
    {
     "data": {
      "image/png": "[encoded data removed]",
      "text/plain": [
       "<Figure size 432x288 with 1 Axes>"
      ]
     },
     "metadata": {},
     "output_type": "display_data"
    }
   ],
   "source": [
    "sns.distplot(add['Age'], hist=False, color='g')"
   ]
  },
  {
   "cell_type": "markdown",
   "id": "2a1a6f68",
   "metadata": {},
   "source": [
    "Here we got more information about the age variable. Let's check if there is any outlier."
   ]
  },
  {
   "cell_type": "code",
   "execution_count": 375,
   "id": "59916a7c",
   "metadata": {},
   "outputs": [
    {
     "data": {
      "text/plain": [
       "<AxesSubplot:xlabel='Age'>"
      ]
     },
     "execution_count": 375,
     "metadata": {},
     "output_type": "execute_result"
    },
    {
     "data": {
      "image/png": "[encoded data removed]",
      "text/plain": [
       "<Figure size 432x288 with 1 Axes>"
      ]
     },
     "metadata": {},
     "output_type": "display_data"
    }
   ],
   "source": [
    "sns.boxplot(x=add['Age'], color='pink')"
   ]
  },
  {
   "cell_type": "markdown",
   "id": "b29302fe",
   "metadata": {},
   "source": [
    "No outliers!!"
   ]
  },
  {
   "cell_type": "markdown",
   "id": "8a1f2908",
   "metadata": {},
   "source": [
    "Now, I want to check the relationship between age and clicking behavior. Doing that, we can get more information about the target."
   ]
  },
  {
   "cell_type": "code",
   "execution_count": 376,
   "id": "254d5113",
   "metadata": {},
   "outputs": [],
   "source": [
    "add['Age_cat'] = pd.cut(add['Age'], bins=[0, 29, 35, 42, 62], labels=['1', '2', '3', '4' ])"
   ]
  },
  {
   "cell_type": "code",
   "execution_count": 377,
   "id": "a88c1c4b",
   "metadata": {},
   "outputs": [
    {
     "data": {
      "text/plain": [
       "<AxesSubplot:title={'center':'Age'}, xlabel='Click'>"
      ]
     },
     "execution_count": 377,
     "metadata": {},
     "output_type": "execute_result"
    },
    {
     "data": {
      "image/png": "[encoded data removed]",
      "text/plain": [
       "<Figure size 360x432 with 1 Axes>"
      ]
     },
     "metadata": {},
     "output_type": "display_data"
    }
   ],
   "source": [
    "add.boxplot(column='Age', by='Click', figsize=(5,6), color='black')"
   ]
  },
  {
   "cell_type": "markdown",
   "id": "11317beb",
   "metadata": {},
   "source": [
    "Two information from this boxplot is immediately available, first, older people click more on the ad, second, we have some outliers in the non-clicked group"
   ]
  },
  {
   "cell_type": "markdown",
   "id": "e72d77fe",
   "metadata": {},
   "source": [
    "However, we can not be sure if there is a significant difference between two groups in terms of age before we check the situation. Mathematical difference does not mean statistical difference."
   ]
  },
  {
   "cell_type": "markdown",
   "id": "7372b0ea",
   "metadata": {},
   "source": [
    "This is very important because if we, just because of this boxplot, decide that we should target older people for PureBook, and if there are no significant differences by groups, we would lose a lot of potential costumers."
   ]
  },
  {
   "cell_type": "markdown",
   "id": "9c596d42",
   "metadata": {},
   "source": [
    "Point biserial correlation can be used to check the relationship between one categorical and one continous variable."
   ]
  },
  {
   "cell_type": "code",
   "execution_count": 378,
   "id": "0909389a",
   "metadata": {},
   "outputs": [
    {
     "data": {
      "text/plain": [
       "PointbiserialrResult(correlation=0.4925312655560377, pvalue=3.129808309289353e-62)"
      ]
     },
     "execution_count": 378,
     "metadata": {},
     "output_type": "execute_result"
    }
   ],
   "source": [
    "scipy.stats.pointbiserialr(add['Click'], add['Age'])"
   ]
  },
  {
   "cell_type": "markdown",
   "id": "ddd43836",
   "metadata": {},
   "source": [
    "There is a significant correlation between age and clicks on ads. I also want to check this on age_cat variable"
   ]
  },
  {
   "cell_type": "code",
   "execution_count": 379,
   "id": "7628e206",
   "metadata": {},
   "outputs": [
    {
     "name": "stdout",
     "output_type": "stream",
     "text": [
      "Chi-square 240.228 p_value 0.000\n"
     ]
    }
   ],
   "source": [
    "table=pd.crosstab(add['Click'],add['Age_cat'])\n",
    "from scipy.stats import chi2_contingency\n",
    "chi2,p,dof,expected=chi2_contingency(table.values)\n",
    "print('Chi-square %0.3f p_value %0.3f'%(chi2,p))"
   ]
  },
  {
   "cell_type": "markdown",
   "id": "760a413d",
   "metadata": {},
   "source": [
    "Chi square analysis also confirms this fact. It is safe to assume a relationship between age and clicking on ad"
   ]
  },
  {
   "cell_type": "markdown",
   "id": "57cef04c",
   "metadata": {},
   "source": [
    "# GENDER"
   ]
  },
  {
   "cell_type": "code",
   "execution_count": 380,
   "id": "fe422fc0",
   "metadata": {},
   "outputs": [
    {
     "data": {
      "text/plain": [
       "<seaborn.axisgrid.FacetGrid at 0x26cbabb17f0>"
      ]
     },
     "execution_count": 380,
     "metadata": {},
     "output_type": "execute_result"
    },
    {
     "data": {
      "image/png": "[encoded data removed]",
      "text/plain": [
       "<Figure size 438.8x360 with 1 Axes>"
      ]
     },
     "metadata": {},
     "output_type": "display_data"
    }
   ],
   "source": [
    "sns.catplot(x=\"Click\", kind=\"count\", hue=\"Male_gender\",palette=\"pastel\", data=add)"
   ]
  },
  {
   "cell_type": "markdown",
   "id": "2cd91fe7",
   "metadata": {},
   "source": [
    "Gender and clicking behavior seems independent but we can still check it will chi square."
   ]
  },
  {
   "cell_type": "code",
   "execution_count": 381,
   "id": "486484f3",
   "metadata": {},
   "outputs": [
    {
     "name": "stdout",
     "output_type": "stream",
     "text": [
      "Chi-square 1.298 p_value 0.255\n"
     ]
    }
   ],
   "source": [
    "table=pd.crosstab(add['Click'],add['Male_gender'])\n",
    "chi2,p,dof,expected=chi2_contingency(table.values)\n",
    "print('Chi-square %0.3f p_value %0.3f'%(chi2,p))"
   ]
  },
  {
   "cell_type": "markdown",
   "id": "d3568ac1",
   "metadata": {},
   "source": [
    "Chi square analysis confirmed this."
   ]
  },
  {
   "cell_type": "markdown",
   "id": "c54695ac",
   "metadata": {},
   "source": [
    "# Country"
   ]
  },
  {
   "cell_type": "code",
   "execution_count": 382,
   "id": "9c956e7e",
   "metadata": {},
   "outputs": [
    {
     "data": {
      "text/plain": [
       "array(['Tunisia', 'Nauru', 'San Marino', 'Italy', 'Iceland', 'Norway',\n",
       "       'Myanmar', 'Australia', 'Grenada', 'Ghana', 'Qatar', 'Burundi',\n",
       "       'Egypt', 'Bosnia and Herzegovina', 'Barbados', 'Spain',\n",
       "       'Palestinian Territory', 'Afghanistan',\n",
       "       'British Indian Ocean Territory (Chagos Archipelago)',\n",
       "       'Russian Federation', 'Cameroon', 'Korea', 'Tokelau', 'Monaco',\n",
       "       'Tuvalu', 'Greece', 'British Virgin Islands',\n",
       "       'Bouvet Island (Bouvetoya)', 'Peru', 'Aruba', 'Maldives',\n",
       "       'Senegal', 'Dominica', 'Luxembourg', 'Montenegro', 'Ukraine',\n",
       "       'Saint Helena', 'Liberia', 'Turkmenistan', 'Niger', 'Sri Lanka',\n",
       "       'Trinidad and Tobago', 'United Kingdom', 'Guinea-Bissau',\n",
       "       'Micronesia', 'Turkey', 'Croatia', 'Israel',\n",
       "       'Svalbard & Jan Mayen Islands', 'Azerbaijan', 'Iran',\n",
       "       'Saint Vincent and the Grenadines', 'Bulgaria', 'Christmas Island',\n",
       "       'Canada', 'Rwanda', 'Turks and Caicos Islands', 'Norfolk Island',\n",
       "       'Cook Islands', 'Guatemala', \"Cote d'Ivoire\", 'Faroe Islands',\n",
       "       'Ireland', 'Moldova', 'Nicaragua', 'Montserrat', 'Timor-Leste',\n",
       "       'Puerto Rico', 'Central African Republic', 'Venezuela',\n",
       "       'Wallis and Futuna', 'Jersey', 'Samoa',\n",
       "       'Antarctica (the territory South of 60 deg S)', 'Albania',\n",
       "       'Hong Kong', 'Lithuania', 'Bangladesh', 'Western Sahara', 'Serbia',\n",
       "       'Czech Republic', 'Guernsey', 'Tanzania', 'Bhutan', 'Guinea',\n",
       "       'Madagascar', 'Lebanon', 'Eritrea', 'Guyana',\n",
       "       'United Arab Emirates', 'Martinique', 'Somalia', 'Benin',\n",
       "       'Papua New Guinea', 'Uzbekistan', 'South Africa', 'Hungary',\n",
       "       'Falkland Islands (Malvinas)', 'Saint Martin', 'Cuba',\n",
       "       'United States Minor Outlying Islands', 'Belize', 'Kuwait',\n",
       "       'Thailand', 'Gibraltar', 'Holy See (Vatican City State)',\n",
       "       'Netherlands', 'Belarus', 'New Zealand', 'Togo', 'Kenya', 'Palau',\n",
       "       'Cambodia', 'Costa Rica', 'Liechtenstein', 'Angola',\n",
       "       'Equatorial Guinea', 'Mongolia', 'Brazil', 'Chad', 'Portugal',\n",
       "       'Malawi', 'Singapore', 'Kazakhstan', 'China', 'Vietnam', 'Mayotte',\n",
       "       'Jamaica', 'Bahamas', 'Algeria', 'Fiji', 'Argentina',\n",
       "       'Philippines', 'Suriname', 'Guam', 'Antigua and Barbuda',\n",
       "       'Georgia', 'Jordan', 'Saudi Arabia', 'Sao Tome and Principe',\n",
       "       'Cyprus', 'Kyrgyz Republic', 'Pakistan', 'Seychelles',\n",
       "       'Mauritania', 'Chile', 'Poland', 'Estonia', 'Latvia', 'Bahrain',\n",
       "       'Colombia', 'Brunei Darussalam', 'Taiwan',\n",
       "       'Saint Pierre and Miquelon', 'Finland',\n",
       "       'French Southern Territories', 'Sierra Leone', 'Tajikistan',\n",
       "       'Ecuador', 'Switzerland', 'France', 'Malaysia', 'Mauritius',\n",
       "       'Japan', 'Greenland', 'Guadeloupe', 'Belgium', 'Honduras',\n",
       "       'Paraguay', 'French Guiana', 'Northern Mariana Islands',\n",
       "       'American Samoa', 'Austria', 'Tonga', 'New Caledonia',\n",
       "       'United States of America', 'Morocco', 'Macedonia', 'Gabon',\n",
       "       'Uganda', 'Saint Lucia', 'Niue', 'Zambia', 'Congo',\n",
       "       'Pitcairn Islands', 'Anguilla', 'Sweden', 'Indonesia', 'Mexico',\n",
       "       'Haiti', 'Gambia', 'El Salvador', 'Libyan Arab Jamahiriya',\n",
       "       'Saint Barthelemy', 'Reunion', 'Panama', 'Dominican Republic',\n",
       "       'Zimbabwe', 'Swaziland', 'Saint Kitts and Nevis', 'Burkina Faso',\n",
       "       'Heard Island and McDonald Islands', 'Bolivia',\n",
       "       'Netherlands Antilles', 'French Polynesia', 'Germany', 'Malta',\n",
       "       'Sudan', \"Lao People's Democratic Republic\", 'Isle of Man',\n",
       "       'Macao', 'United States Virgin Islands', 'Djibouti', 'Mali',\n",
       "       'Romania', 'Cayman Islands', 'Ethiopia', 'Uruguay', 'Comoros',\n",
       "       'Vanuatu', 'Nepal', 'Yemen', 'India', 'Cape Verde', 'Slovenia',\n",
       "       'Denmark', 'Syrian Arab Republic', 'Andorra', 'Namibia',\n",
       "       'Slovakia (Slovak Republic)', 'Armenia',\n",
       "       'South Georgia and the South Sandwich Islands', 'Kiribati',\n",
       "       'Marshall Islands', 'Bermuda', 'Mozambique', 'Lesotho'],\n",
       "      dtype=object)"
      ]
     },
     "execution_count": 382,
     "metadata": {},
     "output_type": "execute_result"
    }
   ],
   "source": [
    "add['Country'].unique()"
   ]
  },
  {
   "cell_type": "code",
   "execution_count": 383,
   "id": "03b5e6fa",
   "metadata": {},
   "outputs": [
    {
     "data": {
      "text/plain": [
       "France            9\n",
       "Czech Republic    9\n",
       "Peru              8\n",
       "Turkey            8\n",
       "Greece            8\n",
       "Senegal           8\n",
       "Liberia           8\n",
       "Australia         8\n",
       "South Africa      8\n",
       "Micronesia        8\n",
       "Cyprus            8\n",
       "Afghanistan       8\n",
       "Name: Country, dtype: int64"
      ]
     },
     "execution_count": 383,
     "metadata": {},
     "output_type": "execute_result"
    }
   ],
   "source": [
    "add['Country'].value_counts()[:12]"
   ]
  },
  {
   "cell_type": "markdown",
   "id": "0321a077",
   "metadata": {},
   "source": [
    "# Time spending on website vs time spending on the internet"
   ]
  },
  {
   "cell_type": "code",
   "execution_count": 384,
   "id": "c84a1ea7",
   "metadata": {},
   "outputs": [],
   "source": [
    "r = np.corrcoef(add['Time_site'], add['Time_internet'])"
   ]
  },
  {
   "cell_type": "code",
   "execution_count": 385,
   "id": "6a893015",
   "metadata": {},
   "outputs": [
    {
     "data": {
      "text/plain": [
       "(0.5186584753371861, 6.01204966130329e-70)"
      ]
     },
     "execution_count": 385,
     "metadata": {},
     "output_type": "execute_result"
    }
   ],
   "source": [
    "scipy.stats.pearsonr(add['Time_site'], add['Time_internet'])"
   ]
  },
  {
   "cell_type": "markdown",
   "id": "95291702",
   "metadata": {},
   "source": [
    "There is a significant relationship between time spent on the internet and time spent in the website."
   ]
  },
  {
   "cell_type": "markdown",
   "id": "ec9b2bde",
   "metadata": {},
   "source": [
    "# CLICK PREDICTION USING SVM"
   ]
  },
  {
   "cell_type": "code",
   "execution_count": 386,
   "id": "05d7e1ef",
   "metadata": {},
   "outputs": [
    {
     "data": {
      "text/html": [
       "<div>\n",
       "<style scoped>\n",
       "    .dataframe tbody tr th:only-of-type {\n",
       "        vertical-align: middle;\n",
       "    }\n",
       "\n",
       "    .dataframe tbody tr th {\n",
       "        vertical-align: top;\n",
       "    }\n",
       "\n",
       "    .dataframe thead th {\n",
       "        text-align: right;\n",
       "    }\n",
       "</style>\n",
       "<table border=\"1\" class=\"dataframe\">\n",
       "  <thead>\n",
       "    <tr style=\"text-align: right;\">\n",
       "      <th></th>\n",
       "      <th>Time_site</th>\n",
       "      <th>Age</th>\n",
       "      <th>Income_area</th>\n",
       "      <th>Time_internet</th>\n",
       "      <th>Male_gender</th>\n",
       "      <th>Click</th>\n",
       "      <th>Age_cat</th>\n",
       "      <th>AM</th>\n",
       "      <th>evening</th>\n",
       "      <th>morning</th>\n",
       "    </tr>\n",
       "  </thead>\n",
       "  <tbody>\n",
       "    <tr>\n",
       "      <th>0</th>\n",
       "      <td>68.95</td>\n",
       "      <td>35</td>\n",
       "      <td>61833.90</td>\n",
       "      <td>256.09</td>\n",
       "      <td>0</td>\n",
       "      <td>0</td>\n",
       "      <td>2</td>\n",
       "      <td>0</td>\n",
       "      <td>1</td>\n",
       "      <td>0</td>\n",
       "    </tr>\n",
       "    <tr>\n",
       "      <th>1</th>\n",
       "      <td>80.23</td>\n",
       "      <td>31</td>\n",
       "      <td>68441.85</td>\n",
       "      <td>193.77</td>\n",
       "      <td>1</td>\n",
       "      <td>0</td>\n",
       "      <td>2</td>\n",
       "      <td>1</td>\n",
       "      <td>0</td>\n",
       "      <td>0</td>\n",
       "    </tr>\n",
       "    <tr>\n",
       "      <th>2</th>\n",
       "      <td>69.47</td>\n",
       "      <td>26</td>\n",
       "      <td>59785.94</td>\n",
       "      <td>236.50</td>\n",
       "      <td>0</td>\n",
       "      <td>0</td>\n",
       "      <td>1</td>\n",
       "      <td>0</td>\n",
       "      <td>1</td>\n",
       "      <td>0</td>\n",
       "    </tr>\n",
       "    <tr>\n",
       "      <th>3</th>\n",
       "      <td>74.15</td>\n",
       "      <td>29</td>\n",
       "      <td>54806.18</td>\n",
       "      <td>245.89</td>\n",
       "      <td>1</td>\n",
       "      <td>0</td>\n",
       "      <td>1</td>\n",
       "      <td>1</td>\n",
       "      <td>0</td>\n",
       "      <td>0</td>\n",
       "    </tr>\n",
       "    <tr>\n",
       "      <th>4</th>\n",
       "      <td>68.37</td>\n",
       "      <td>35</td>\n",
       "      <td>73889.99</td>\n",
       "      <td>225.58</td>\n",
       "      <td>0</td>\n",
       "      <td>0</td>\n",
       "      <td>2</td>\n",
       "      <td>1</td>\n",
       "      <td>0</td>\n",
       "      <td>0</td>\n",
       "    </tr>\n",
       "    <tr>\n",
       "      <th>...</th>\n",
       "      <td>...</td>\n",
       "      <td>...</td>\n",
       "      <td>...</td>\n",
       "      <td>...</td>\n",
       "      <td>...</td>\n",
       "      <td>...</td>\n",
       "      <td>...</td>\n",
       "      <td>...</td>\n",
       "      <td>...</td>\n",
       "      <td>...</td>\n",
       "    </tr>\n",
       "    <tr>\n",
       "      <th>995</th>\n",
       "      <td>72.97</td>\n",
       "      <td>30</td>\n",
       "      <td>71384.57</td>\n",
       "      <td>208.58</td>\n",
       "      <td>1</td>\n",
       "      <td>1</td>\n",
       "      <td>2</td>\n",
       "      <td>0</td>\n",
       "      <td>1</td>\n",
       "      <td>0</td>\n",
       "    </tr>\n",
       "    <tr>\n",
       "      <th>996</th>\n",
       "      <td>51.30</td>\n",
       "      <td>45</td>\n",
       "      <td>67782.17</td>\n",
       "      <td>134.42</td>\n",
       "      <td>1</td>\n",
       "      <td>1</td>\n",
       "      <td>4</td>\n",
       "      <td>1</td>\n",
       "      <td>0</td>\n",
       "      <td>0</td>\n",
       "    </tr>\n",
       "    <tr>\n",
       "      <th>997</th>\n",
       "      <td>51.63</td>\n",
       "      <td>51</td>\n",
       "      <td>42415.72</td>\n",
       "      <td>120.37</td>\n",
       "      <td>1</td>\n",
       "      <td>1</td>\n",
       "      <td>4</td>\n",
       "      <td>0</td>\n",
       "      <td>1</td>\n",
       "      <td>0</td>\n",
       "    </tr>\n",
       "    <tr>\n",
       "      <th>998</th>\n",
       "      <td>55.55</td>\n",
       "      <td>19</td>\n",
       "      <td>41920.79</td>\n",
       "      <td>187.95</td>\n",
       "      <td>0</td>\n",
       "      <td>0</td>\n",
       "      <td>1</td>\n",
       "      <td>1</td>\n",
       "      <td>0</td>\n",
       "      <td>0</td>\n",
       "    </tr>\n",
       "    <tr>\n",
       "      <th>999</th>\n",
       "      <td>45.01</td>\n",
       "      <td>26</td>\n",
       "      <td>29875.80</td>\n",
       "      <td>178.35</td>\n",
       "      <td>0</td>\n",
       "      <td>1</td>\n",
       "      <td>1</td>\n",
       "      <td>0</td>\n",
       "      <td>1</td>\n",
       "      <td>0</td>\n",
       "    </tr>\n",
       "  </tbody>\n",
       "</table>\n",
       "<p>1000 rows × 10 columns</p>\n",
       "</div>"
      ],
      "text/plain": [
       "     Time_site  Age  Income_area  Time_internet  Male_gender  Click Age_cat  \\\n",
       "0        68.95   35     61833.90         256.09            0      0       2   \n",
       "1        80.23   31     68441.85         193.77            1      0       2   \n",
       "2        69.47   26     59785.94         236.50            0      0       1   \n",
       "3        74.15   29     54806.18         245.89            1      0       1   \n",
       "4        68.37   35     73889.99         225.58            0      0       2   \n",
       "..         ...  ...          ...            ...          ...    ...     ...   \n",
       "995      72.97   30     71384.57         208.58            1      1       2   \n",
       "996      51.30   45     67782.17         134.42            1      1       4   \n",
       "997      51.63   51     42415.72         120.37            1      1       4   \n",
       "998      55.55   19     41920.79         187.95            0      0       1   \n",
       "999      45.01   26     29875.80         178.35            0      1       1   \n",
       "\n",
       "     AM  evening  morning  \n",
       "0     0        1        0  \n",
       "1     1        0        0  \n",
       "2     0        1        0  \n",
       "3     1        0        0  \n",
       "4     1        0        0  \n",
       "..   ..      ...      ...  \n",
       "995   0        1        0  \n",
       "996   1        0        0  \n",
       "997   0        1        0  \n",
       "998   1        0        0  \n",
       "999   0        1        0  \n",
       "\n",
       "[1000 rows x 10 columns]"
      ]
     },
     "execution_count": 386,
     "metadata": {},
     "output_type": "execute_result"
    }
   ],
   "source": [
    "X=add.drop('Time',axis=1)\n",
    "X=X.drop('Hour',axis=1)\n",
    "X=X.drop('Country',axis=1)\n",
    "K=pd.get_dummies(add['time_cat'])\n",
    "XX=pd.concat([X, K], axis=1, verify_integrity=True)\n",
    "XX=XX.drop('time_cat',axis=1)\n",
    "XX"
   ]
  },
  {
   "cell_type": "code",
   "execution_count": 387,
   "id": "40ddcd1b",
   "metadata": {},
   "outputs": [],
   "source": [
    "from sklearn.model_selection import train_test_split\n",
    "np.random.seed(42)\n",
    "X_train, X_test, y_train, y_test = train_test_split(XX, y, test_size = 0.20)"
   ]
  },
  {
   "cell_type": "code",
   "execution_count": 388,
   "id": "5cf2e8fa",
   "metadata": {},
   "outputs": [
    {
     "data": {
      "text/plain": [
       "SVC(kernel='linear')"
      ]
     },
     "execution_count": 388,
     "metadata": {},
     "output_type": "execute_result"
    }
   ],
   "source": [
    "from sklearn.svm import SVC\n",
    "svclassifier = SVC(kernel='linear')\n",
    "svclassifier.fit(X_train, y_train)"
   ]
  },
  {
   "cell_type": "code",
   "execution_count": 389,
   "id": "bf7b6ed0",
   "metadata": {},
   "outputs": [],
   "source": [
    "y_pred = svclassifier.predict(X_test)"
   ]
  },
  {
   "cell_type": "code",
   "execution_count": 390,
   "id": "f0cd587c",
   "metadata": {},
   "outputs": [
    {
     "name": "stdout",
     "output_type": "stream",
     "text": [
      "the accuracy is: 0.95\n"
     ]
    }
   ],
   "source": [
    "from sklearn.metrics import classification_report, confusion_matrix\n",
    "P=confusion_matrix(y_test,y_pred)\n",
    "print(\"the accuracy is:\",(P[0,0]+P[1,1])/(P[0,0]+P[1,1]+P[0,1]+P[1,0]))"
   ]
  },
  {
   "cell_type": "markdown",
   "id": "06608589",
   "metadata": {},
   "source": [
    "It is possible to predict if someone will click on the purebook ad or not with 97% of accuracy. Since this is an amazing accuracy level, in this case, it makes a lot of sense to select a target group. "
   ]
  },
  {
   "cell_type": "markdown",
   "id": "b4be8cb4",
   "metadata": {},
   "source": [
    "# K MEANS CUSTOMER SEGMENTATION"
   ]
  },
  {
   "cell_type": "code",
   "execution_count": 391,
   "id": "e3a4a0a9",
   "metadata": {},
   "outputs": [],
   "source": [
    "import sklearn\n",
    "from sklearn.cluster import KMeans\n",
    "from sklearn.metrics import silhouette_score\n",
    "from sklearn.preprocessing import StandardScaler"
   ]
  },
  {
   "cell_type": "code",
   "execution_count": 392,
   "id": "ad4b4bb7",
   "metadata": {},
   "outputs": [],
   "source": [
    "col_names = ['Time_site', 'Age', 'Income_area', 'Time_internet']\n",
    "features = add[col_names]\n",
    "scaler = StandardScaler().fit(features.values)\n",
    "features = scaler.transform(features.values)\n",
    "scaled_features = pd.DataFrame(features, columns = col_names)\n",
    "scaled_features\n",
    "newdf=pd.concat([XX.iloc[:,4:], scaled_features], axis=1, verify_integrity=True)\n"
   ]
  },
  {
   "cell_type": "code",
   "execution_count": 393,
   "id": "25eb1361",
   "metadata": {},
   "outputs": [
    {
     "name": "stderr",
     "output_type": "stream",
     "text": [
      "C:\\Users\\adila\\anaconda3\\lib\\site-packages\\sklearn\\cluster\\_kmeans.py:1036: UserWarning: KMeans is known to have a memory leak on Windows with MKL, when there are less chunks than available threads. You can avoid it by setting the environment variable OMP_NUM_THREADS=4.\n",
      "  warnings.warn(\n"
     ]
    }
   ],
   "source": [
    "\n",
    "SSE = []\n",
    "\n",
    "for cluster in range(1,10):\n",
    "    kmeans = KMeans(n_clusters = cluster, init='k-means++')\n",
    "    kmeans.fit(newdf)\n",
    "    SSE.append(kmeans.inertia_)"
   ]
  },
  {
   "cell_type": "code",
   "execution_count": 394,
   "id": "ad45efbc",
   "metadata": {},
   "outputs": [
    {
     "data": {
      "text/plain": [
       "Text(0, 0.5, 'Error')"
      ]
     },
     "execution_count": 394,
     "metadata": {},
     "output_type": "execute_result"
    },
    {
     "data": {
      "image/png": "[encoded data removed]",
      "text/plain": [
       "<Figure size 864x432 with 1 Axes>"
      ]
     },
     "metadata": {},
     "output_type": "display_data"
    }
   ],
   "source": [
    "frame = pd.DataFrame({'Cluster':range(1,10), 'SSE':SSE})\n",
    "plt.figure(figsize=(12,6))\n",
    "plt.plot(frame['Cluster'], frame['SSE'], marker='o')\n",
    "plt.xlabel('Number of clusters')\n",
    "plt.ylabel('Error')"
   ]
  },
  {
   "cell_type": "code",
   "execution_count": 395,
   "id": "1d6da95e",
   "metadata": {},
   "outputs": [
    {
     "name": "stdout",
     "output_type": "stream",
     "text": [
      "0.3393620850974385\n"
     ]
    },
    {
     "name": "stderr",
     "output_type": "stream",
     "text": [
      "C:\\Users\\adila\\anaconda3\\lib\\site-packages\\sklearn\\utils\\validation.py:964: FutureWarning: Arrays of bytes/strings is being converted to decimal numbers if dtype='numeric'. This behavior is deprecated in 0.24 and will be removed in 1.1 (renaming of 0.26). Please convert your data to numeric values explicitly instead.\n",
      "  X = check_array(\n"
     ]
    }
   ],
   "source": [
    "kmeans = KMeans( n_clusters = 2, init='k-means++')\n",
    "kmeans.fit(newdf)\n",
    "\n",
    "# Now, print the silhouette score of this model\n",
    "\n",
    "print(silhouette_score(newdf, kmeans.labels_, metric='euclidean'))"
   ]
  },
  {
   "cell_type": "code",
   "execution_count": 396,
   "id": "e9ab8205",
   "metadata": {},
   "outputs": [],
   "source": [
    "clusters = kmeans.fit_predict(newdf.iloc[:,1:])\n",
    "newdf[\"label\"] = clusters"
   ]
  },
  {
   "cell_type": "code",
   "execution_count": 397,
   "id": "81962c9b",
   "metadata": {},
   "outputs": [
    {
     "data": {
      "text/html": [
       "<div>\n",
       "<style scoped>\n",
       "    .dataframe tbody tr th:only-of-type {\n",
       "        vertical-align: middle;\n",
       "    }\n",
       "\n",
       "    .dataframe tbody tr th {\n",
       "        vertical-align: top;\n",
       "    }\n",
       "\n",
       "    .dataframe thead th {\n",
       "        text-align: right;\n",
       "    }\n",
       "</style>\n",
       "<table border=\"1\" class=\"dataframe\">\n",
       "  <thead>\n",
       "    <tr style=\"text-align: right;\">\n",
       "      <th></th>\n",
       "      <th>Male_gender</th>\n",
       "      <th>Click</th>\n",
       "      <th>Age_cat</th>\n",
       "      <th>AM</th>\n",
       "      <th>evening</th>\n",
       "      <th>morning</th>\n",
       "      <th>Time_site</th>\n",
       "      <th>Age</th>\n",
       "      <th>Income_area</th>\n",
       "      <th>Time_internet</th>\n",
       "      <th>label</th>\n",
       "    </tr>\n",
       "  </thead>\n",
       "  <tbody>\n",
       "    <tr>\n",
       "      <th>0</th>\n",
       "      <td>0</td>\n",
       "      <td>0</td>\n",
       "      <td>2</td>\n",
       "      <td>0</td>\n",
       "      <td>1</td>\n",
       "      <td>0</td>\n",
       "      <td>0.249267</td>\n",
       "      <td>-0.114905</td>\n",
       "      <td>0.509691</td>\n",
       "      <td>1.734030</td>\n",
       "      <td>0</td>\n",
       "    </tr>\n",
       "    <tr>\n",
       "      <th>1</th>\n",
       "      <td>1</td>\n",
       "      <td>0</td>\n",
       "      <td>2</td>\n",
       "      <td>1</td>\n",
       "      <td>0</td>\n",
       "      <td>0</td>\n",
       "      <td>0.961132</td>\n",
       "      <td>-0.570425</td>\n",
       "      <td>1.002530</td>\n",
       "      <td>0.313805</td>\n",
       "      <td>0</td>\n",
       "    </tr>\n",
       "    <tr>\n",
       "      <th>2</th>\n",
       "      <td>0</td>\n",
       "      <td>0</td>\n",
       "      <td>1</td>\n",
       "      <td>0</td>\n",
       "      <td>1</td>\n",
       "      <td>0</td>\n",
       "      <td>0.282083</td>\n",
       "      <td>-1.139826</td>\n",
       "      <td>0.356949</td>\n",
       "      <td>1.287589</td>\n",
       "      <td>0</td>\n",
       "    </tr>\n",
       "    <tr>\n",
       "      <th>3</th>\n",
       "      <td>1</td>\n",
       "      <td>0</td>\n",
       "      <td>1</td>\n",
       "      <td>1</td>\n",
       "      <td>0</td>\n",
       "      <td>0</td>\n",
       "      <td>0.577432</td>\n",
       "      <td>-0.798185</td>\n",
       "      <td>-0.014456</td>\n",
       "      <td>1.501580</td>\n",
       "      <td>0</td>\n",
       "    </tr>\n",
       "    <tr>\n",
       "      <th>4</th>\n",
       "      <td>0</td>\n",
       "      <td>0</td>\n",
       "      <td>2</td>\n",
       "      <td>1</td>\n",
       "      <td>0</td>\n",
       "      <td>0</td>\n",
       "      <td>0.212664</td>\n",
       "      <td>-0.114905</td>\n",
       "      <td>1.408868</td>\n",
       "      <td>1.038731</td>\n",
       "      <td>0</td>\n",
       "    </tr>\n",
       "    <tr>\n",
       "      <th>...</th>\n",
       "      <td>...</td>\n",
       "      <td>...</td>\n",
       "      <td>...</td>\n",
       "      <td>...</td>\n",
       "      <td>...</td>\n",
       "      <td>...</td>\n",
       "      <td>...</td>\n",
       "      <td>...</td>\n",
       "      <td>...</td>\n",
       "      <td>...</td>\n",
       "      <td>...</td>\n",
       "    </tr>\n",
       "    <tr>\n",
       "      <th>995</th>\n",
       "      <td>1</td>\n",
       "      <td>1</td>\n",
       "      <td>2</td>\n",
       "      <td>0</td>\n",
       "      <td>1</td>\n",
       "      <td>0</td>\n",
       "      <td>0.502963</td>\n",
       "      <td>-0.684305</td>\n",
       "      <td>1.222006</td>\n",
       "      <td>0.651314</td>\n",
       "      <td>0</td>\n",
       "    </tr>\n",
       "    <tr>\n",
       "      <th>996</th>\n",
       "      <td>1</td>\n",
       "      <td>1</td>\n",
       "      <td>4</td>\n",
       "      <td>1</td>\n",
       "      <td>0</td>\n",
       "      <td>0</td>\n",
       "      <td>-0.864601</td>\n",
       "      <td>1.023896</td>\n",
       "      <td>0.953329</td>\n",
       "      <td>-1.038735</td>\n",
       "      <td>1</td>\n",
       "    </tr>\n",
       "    <tr>\n",
       "      <th>997</th>\n",
       "      <td>1</td>\n",
       "      <td>1</td>\n",
       "      <td>4</td>\n",
       "      <td>0</td>\n",
       "      <td>1</td>\n",
       "      <td>0</td>\n",
       "      <td>-0.843775</td>\n",
       "      <td>1.707176</td>\n",
       "      <td>-0.938570</td>\n",
       "      <td>-1.358924</td>\n",
       "      <td>1</td>\n",
       "    </tr>\n",
       "    <tr>\n",
       "      <th>998</th>\n",
       "      <td>0</td>\n",
       "      <td>0</td>\n",
       "      <td>1</td>\n",
       "      <td>1</td>\n",
       "      <td>0</td>\n",
       "      <td>0</td>\n",
       "      <td>-0.596389</td>\n",
       "      <td>-1.936986</td>\n",
       "      <td>-0.975484</td>\n",
       "      <td>0.181172</td>\n",
       "      <td>0</td>\n",
       "    </tr>\n",
       "    <tr>\n",
       "      <th>999</th>\n",
       "      <td>0</td>\n",
       "      <td>1</td>\n",
       "      <td>1</td>\n",
       "      <td>0</td>\n",
       "      <td>1</td>\n",
       "      <td>0</td>\n",
       "      <td>-1.261555</td>\n",
       "      <td>-1.139826</td>\n",
       "      <td>-1.873832</td>\n",
       "      <td>-0.037605</td>\n",
       "      <td>0</td>\n",
       "    </tr>\n",
       "  </tbody>\n",
       "</table>\n",
       "<p>1000 rows × 11 columns</p>\n",
       "</div>"
      ],
      "text/plain": [
       "     Male_gender  Click Age_cat  AM  evening  morning  Time_site       Age  \\\n",
       "0              0      0       2   0        1        0   0.249267 -0.114905   \n",
       "1              1      0       2   1        0        0   0.961132 -0.570425   \n",
       "2              0      0       1   0        1        0   0.282083 -1.139826   \n",
       "3              1      0       1   1        0        0   0.577432 -0.798185   \n",
       "4              0      0       2   1        0        0   0.212664 -0.114905   \n",
       "..           ...    ...     ...  ..      ...      ...        ...       ...   \n",
       "995            1      1       2   0        1        0   0.502963 -0.684305   \n",
       "996            1      1       4   1        0        0  -0.864601  1.023896   \n",
       "997            1      1       4   0        1        0  -0.843775  1.707176   \n",
       "998            0      0       1   1        0        0  -0.596389 -1.936986   \n",
       "999            0      1       1   0        1        0  -1.261555 -1.139826   \n",
       "\n",
       "     Income_area  Time_internet  label  \n",
       "0       0.509691       1.734030      0  \n",
       "1       1.002530       0.313805      0  \n",
       "2       0.356949       1.287589      0  \n",
       "3      -0.014456       1.501580      0  \n",
       "4       1.408868       1.038731      0  \n",
       "..           ...            ...    ...  \n",
       "995     1.222006       0.651314      0  \n",
       "996     0.953329      -1.038735      1  \n",
       "997    -0.938570      -1.358924      1  \n",
       "998    -0.975484       0.181172      0  \n",
       "999    -1.873832      -0.037605      0  \n",
       "\n",
       "[1000 rows x 11 columns]"
      ]
     },
     "execution_count": 397,
     "metadata": {},
     "output_type": "execute_result"
    }
   ],
   "source": [
    "newdf"
   ]
  },
  {
   "cell_type": "code",
   "execution_count": 398,
   "id": "a7b21cfa",
   "metadata": {},
   "outputs": [
    {
     "data": {
      "text/html": [
       "<div>\n",
       "<style scoped>\n",
       "    .dataframe tbody tr th:only-of-type {\n",
       "        vertical-align: middle;\n",
       "    }\n",
       "\n",
       "    .dataframe tbody tr th {\n",
       "        vertical-align: top;\n",
       "    }\n",
       "\n",
       "    .dataframe thead th {\n",
       "        text-align: right;\n",
       "    }\n",
       "</style>\n",
       "<table border=\"1\" class=\"dataframe\">\n",
       "  <thead>\n",
       "    <tr style=\"text-align: right;\">\n",
       "      <th></th>\n",
       "      <th>Time_site</th>\n",
       "      <th>Age</th>\n",
       "      <th>Income_area</th>\n",
       "      <th>Time_internet</th>\n",
       "    </tr>\n",
       "    <tr>\n",
       "      <th>label</th>\n",
       "      <th></th>\n",
       "      <th></th>\n",
       "      <th></th>\n",
       "      <th></th>\n",
       "    </tr>\n",
       "  </thead>\n",
       "  <tbody>\n",
       "    <tr>\n",
       "      <th>0</th>\n",
       "      <td>0.592430</td>\n",
       "      <td>-0.592841</td>\n",
       "      <td>0.390085</td>\n",
       "      <td>0.625004</td>\n",
       "    </tr>\n",
       "    <tr>\n",
       "      <th>1</th>\n",
       "      <td>-0.782118</td>\n",
       "      <td>0.782660</td>\n",
       "      <td>-0.514985</td>\n",
       "      <td>-0.825122</td>\n",
       "    </tr>\n",
       "  </tbody>\n",
       "</table>\n",
       "</div>"
      ],
      "text/plain": [
       "       Time_site       Age  Income_area  Time_internet\n",
       "label                                                 \n",
       "0       0.592430 -0.592841     0.390085       0.625004\n",
       "1      -0.782118  0.782660    -0.514985      -0.825122"
      ]
     },
     "execution_count": 398,
     "metadata": {},
     "output_type": "execute_result"
    }
   ],
   "source": [
    "avg_newdf = newdf.groupby(['label']).mean()\n",
    "avg_newdf[['Time_site', 'Age', 'Income_area', 'Time_internet']]"
   ]
  },
  {
   "cell_type": "code",
   "execution_count": 399,
   "id": "cd6e9124",
   "metadata": {},
   "outputs": [
    {
     "data": {
      "text/html": [
       "<div>\n",
       "<style scoped>\n",
       "    .dataframe tbody tr th:only-of-type {\n",
       "        vertical-align: middle;\n",
       "    }\n",
       "\n",
       "    .dataframe tbody tr th {\n",
       "        vertical-align: top;\n",
       "    }\n",
       "\n",
       "    .dataframe thead th {\n",
       "        text-align: right;\n",
       "    }\n",
       "</style>\n",
       "<table border=\"1\" class=\"dataframe\">\n",
       "  <thead>\n",
       "    <tr style=\"text-align: right;\">\n",
       "      <th></th>\n",
       "      <th>Male_gender</th>\n",
       "      <th>Click</th>\n",
       "      <th>AM</th>\n",
       "      <th>evening</th>\n",
       "      <th>morning</th>\n",
       "      <th>Time_site</th>\n",
       "      <th>Age</th>\n",
       "      <th>Income_area</th>\n",
       "      <th>Time_internet</th>\n",
       "    </tr>\n",
       "    <tr>\n",
       "      <th>label</th>\n",
       "      <th></th>\n",
       "      <th></th>\n",
       "      <th></th>\n",
       "      <th></th>\n",
       "      <th></th>\n",
       "      <th></th>\n",
       "      <th></th>\n",
       "      <th></th>\n",
       "      <th></th>\n",
       "    </tr>\n",
       "  </thead>\n",
       "  <tbody>\n",
       "    <tr>\n",
       "      <th>0</th>\n",
       "      <td>0.483304</td>\n",
       "      <td>0.144112</td>\n",
       "      <td>0.325132</td>\n",
       "      <td>0.363796</td>\n",
       "      <td>0.311072</td>\n",
       "      <td>0.592430</td>\n",
       "      <td>-0.592841</td>\n",
       "      <td>0.390085</td>\n",
       "      <td>0.625004</td>\n",
       "    </tr>\n",
       "    <tr>\n",
       "      <th>1</th>\n",
       "      <td>0.477958</td>\n",
       "      <td>0.969838</td>\n",
       "      <td>0.341067</td>\n",
       "      <td>0.334107</td>\n",
       "      <td>0.324826</td>\n",
       "      <td>-0.782118</td>\n",
       "      <td>0.782660</td>\n",
       "      <td>-0.514985</td>\n",
       "      <td>-0.825122</td>\n",
       "    </tr>\n",
       "  </tbody>\n",
       "</table>\n",
       "</div>"
      ],
      "text/plain": [
       "       Male_gender     Click        AM   evening   morning  Time_site  \\\n",
       "label                                                                   \n",
       "0         0.483304  0.144112  0.325132  0.363796  0.311072   0.592430   \n",
       "1         0.477958  0.969838  0.341067  0.334107  0.324826  -0.782118   \n",
       "\n",
       "            Age  Income_area  Time_internet  \n",
       "label                                        \n",
       "0     -0.592841     0.390085       0.625004  \n",
       "1      0.782660    -0.514985      -0.825122  "
      ]
     },
     "execution_count": 399,
     "metadata": {},
     "output_type": "execute_result"
    }
   ],
   "source": [
    "avg_newdf"
   ]
  },
  {
   "cell_type": "code",
   "execution_count": 400,
   "id": "ffd70f5d",
   "metadata": {},
   "outputs": [],
   "source": [
    "add['label']=newdf['label']"
   ]
  },
  {
   "cell_type": "code",
   "execution_count": 401,
   "id": "546509b2",
   "metadata": {},
   "outputs": [
    {
     "data": {
      "text/html": [
       "<div>\n",
       "<style scoped>\n",
       "    .dataframe tbody tr th:only-of-type {\n",
       "        vertical-align: middle;\n",
       "    }\n",
       "\n",
       "    .dataframe tbody tr th {\n",
       "        vertical-align: top;\n",
       "    }\n",
       "\n",
       "    .dataframe thead th {\n",
       "        text-align: right;\n",
       "    }\n",
       "</style>\n",
       "<table border=\"1\" class=\"dataframe\">\n",
       "  <thead>\n",
       "    <tr style=\"text-align: right;\">\n",
       "      <th></th>\n",
       "      <th>Time_site</th>\n",
       "      <th>Age</th>\n",
       "      <th>Income_area</th>\n",
       "      <th>Time_internet</th>\n",
       "    </tr>\n",
       "    <tr>\n",
       "      <th>label</th>\n",
       "      <th></th>\n",
       "      <th></th>\n",
       "      <th></th>\n",
       "      <th></th>\n",
       "    </tr>\n",
       "  </thead>\n",
       "  <tbody>\n",
       "    <tr>\n",
       "      <th>0</th>\n",
       "      <td>74.387663</td>\n",
       "      <td>30.803163</td>\n",
       "      <td>60230.235589</td>\n",
       "      <td>207.425536</td>\n",
       "    </tr>\n",
       "    <tr>\n",
       "      <th>1</th>\n",
       "      <td>52.607007</td>\n",
       "      <td>42.881671</td>\n",
       "      <td>48095.118399</td>\n",
       "      <td>143.793434</td>\n",
       "    </tr>\n",
       "  </tbody>\n",
       "</table>\n",
       "</div>"
      ],
      "text/plain": [
       "       Time_site        Age   Income_area  Time_internet\n",
       "label                                                   \n",
       "0      74.387663  30.803163  60230.235589     207.425536\n",
       "1      52.607007  42.881671  48095.118399     143.793434"
      ]
     },
     "execution_count": 401,
     "metadata": {},
     "output_type": "execute_result"
    }
   ],
   "source": [
    "avg_newdf2 = add.groupby(['label']).mean()\n",
    "avg_newdf2[['Time_site', 'Age', 'Income_area', 'Time_internet']]"
   ]
  },
  {
   "cell_type": "markdown",
   "id": "9f627c82",
   "metadata": {},
   "source": [
    "According to this table, the cluster who is more likely to click on the ad is older, they live in a lower income area and they spend less time both in the website and the internet. Age and time on the internet could be also related."
   ]
  },
  {
   "cell_type": "code",
   "execution_count": 402,
   "id": "76be7387",
   "metadata": {},
   "outputs": [
    {
     "data": {
      "text/plain": [
       "(-0.3315133427865839, 4.446422589440039e-27)"
      ]
     },
     "execution_count": 402,
     "metadata": {},
     "output_type": "execute_result"
    }
   ],
   "source": [
    "scipy.stats.pearsonr(add['Time_site'], add['Age'])"
   ]
  },
  {
   "cell_type": "code",
   "execution_count": 403,
   "id": "0583bdbb",
   "metadata": {},
   "outputs": [
    {
     "data": {
      "text/plain": [
       "(-0.3672085601473587, 2.7873841543326817e-33)"
      ]
     },
     "execution_count": 403,
     "metadata": {},
     "output_type": "execute_result"
    }
   ],
   "source": [
    "scipy.stats.pearsonr(add['Time_internet'], add['Age'])"
   ]
  },
  {
   "cell_type": "markdown",
   "id": "ac0c60da",
   "metadata": {},
   "source": [
    "Due to this already existing correlation, I would like to do an svm analysis again, excluding time on the website and time on the internet"
   ]
  },
  {
   "cell_type": "code",
   "execution_count": 404,
   "id": "3a45285c",
   "metadata": {},
   "outputs": [
    {
     "data": {
      "text/html": [
       "<div>\n",
       "<style scoped>\n",
       "    .dataframe tbody tr th:only-of-type {\n",
       "        vertical-align: middle;\n",
       "    }\n",
       "\n",
       "    .dataframe tbody tr th {\n",
       "        vertical-align: top;\n",
       "    }\n",
       "\n",
       "    .dataframe thead th {\n",
       "        text-align: right;\n",
       "    }\n",
       "</style>\n",
       "<table border=\"1\" class=\"dataframe\">\n",
       "  <thead>\n",
       "    <tr style=\"text-align: right;\">\n",
       "      <th></th>\n",
       "      <th>Age</th>\n",
       "      <th>Income_area</th>\n",
       "      <th>Male_gender</th>\n",
       "      <th>Click</th>\n",
       "      <th>Age_cat</th>\n",
       "      <th>AM</th>\n",
       "      <th>evening</th>\n",
       "      <th>morning</th>\n",
       "    </tr>\n",
       "  </thead>\n",
       "  <tbody>\n",
       "    <tr>\n",
       "      <th>0</th>\n",
       "      <td>35</td>\n",
       "      <td>61833.90</td>\n",
       "      <td>0</td>\n",
       "      <td>0</td>\n",
       "      <td>2</td>\n",
       "      <td>0</td>\n",
       "      <td>1</td>\n",
       "      <td>0</td>\n",
       "    </tr>\n",
       "    <tr>\n",
       "      <th>1</th>\n",
       "      <td>31</td>\n",
       "      <td>68441.85</td>\n",
       "      <td>1</td>\n",
       "      <td>0</td>\n",
       "      <td>2</td>\n",
       "      <td>1</td>\n",
       "      <td>0</td>\n",
       "      <td>0</td>\n",
       "    </tr>\n",
       "    <tr>\n",
       "      <th>2</th>\n",
       "      <td>26</td>\n",
       "      <td>59785.94</td>\n",
       "      <td>0</td>\n",
       "      <td>0</td>\n",
       "      <td>1</td>\n",
       "      <td>0</td>\n",
       "      <td>1</td>\n",
       "      <td>0</td>\n",
       "    </tr>\n",
       "    <tr>\n",
       "      <th>3</th>\n",
       "      <td>29</td>\n",
       "      <td>54806.18</td>\n",
       "      <td>1</td>\n",
       "      <td>0</td>\n",
       "      <td>1</td>\n",
       "      <td>1</td>\n",
       "      <td>0</td>\n",
       "      <td>0</td>\n",
       "    </tr>\n",
       "    <tr>\n",
       "      <th>4</th>\n",
       "      <td>35</td>\n",
       "      <td>73889.99</td>\n",
       "      <td>0</td>\n",
       "      <td>0</td>\n",
       "      <td>2</td>\n",
       "      <td>1</td>\n",
       "      <td>0</td>\n",
       "      <td>0</td>\n",
       "    </tr>\n",
       "    <tr>\n",
       "      <th>...</th>\n",
       "      <td>...</td>\n",
       "      <td>...</td>\n",
       "      <td>...</td>\n",
       "      <td>...</td>\n",
       "      <td>...</td>\n",
       "      <td>...</td>\n",
       "      <td>...</td>\n",
       "      <td>...</td>\n",
       "    </tr>\n",
       "    <tr>\n",
       "      <th>995</th>\n",
       "      <td>30</td>\n",
       "      <td>71384.57</td>\n",
       "      <td>1</td>\n",
       "      <td>1</td>\n",
       "      <td>2</td>\n",
       "      <td>0</td>\n",
       "      <td>1</td>\n",
       "      <td>0</td>\n",
       "    </tr>\n",
       "    <tr>\n",
       "      <th>996</th>\n",
       "      <td>45</td>\n",
       "      <td>67782.17</td>\n",
       "      <td>1</td>\n",
       "      <td>1</td>\n",
       "      <td>4</td>\n",
       "      <td>1</td>\n",
       "      <td>0</td>\n",
       "      <td>0</td>\n",
       "    </tr>\n",
       "    <tr>\n",
       "      <th>997</th>\n",
       "      <td>51</td>\n",
       "      <td>42415.72</td>\n",
       "      <td>1</td>\n",
       "      <td>1</td>\n",
       "      <td>4</td>\n",
       "      <td>0</td>\n",
       "      <td>1</td>\n",
       "      <td>0</td>\n",
       "    </tr>\n",
       "    <tr>\n",
       "      <th>998</th>\n",
       "      <td>19</td>\n",
       "      <td>41920.79</td>\n",
       "      <td>0</td>\n",
       "      <td>0</td>\n",
       "      <td>1</td>\n",
       "      <td>1</td>\n",
       "      <td>0</td>\n",
       "      <td>0</td>\n",
       "    </tr>\n",
       "    <tr>\n",
       "      <th>999</th>\n",
       "      <td>26</td>\n",
       "      <td>29875.80</td>\n",
       "      <td>0</td>\n",
       "      <td>1</td>\n",
       "      <td>1</td>\n",
       "      <td>0</td>\n",
       "      <td>1</td>\n",
       "      <td>0</td>\n",
       "    </tr>\n",
       "  </tbody>\n",
       "</table>\n",
       "<p>1000 rows × 8 columns</p>\n",
       "</div>"
      ],
      "text/plain": [
       "     Age  Income_area  Male_gender  Click Age_cat  AM  evening  morning\n",
       "0     35     61833.90            0      0       2   0        1        0\n",
       "1     31     68441.85            1      0       2   1        0        0\n",
       "2     26     59785.94            0      0       1   0        1        0\n",
       "3     29     54806.18            1      0       1   1        0        0\n",
       "4     35     73889.99            0      0       2   1        0        0\n",
       "..   ...          ...          ...    ...     ...  ..      ...      ...\n",
       "995   30     71384.57            1      1       2   0        1        0\n",
       "996   45     67782.17            1      1       4   1        0        0\n",
       "997   51     42415.72            1      1       4   0        1        0\n",
       "998   19     41920.79            0      0       1   1        0        0\n",
       "999   26     29875.80            0      1       1   0        1        0\n",
       "\n",
       "[1000 rows x 8 columns]"
      ]
     },
     "execution_count": 404,
     "metadata": {},
     "output_type": "execute_result"
    }
   ],
   "source": [
    "XX=XX.drop('Time_internet',axis=1)\n",
    "XX=XX.drop('Time_site',axis=1)\n",
    "XX"
   ]
  },
  {
   "cell_type": "code",
   "execution_count": 405,
   "id": "ed996cf8",
   "metadata": {},
   "outputs": [],
   "source": [
    "np.random.seed(42)\n",
    "X_train, X_test, y_train, y_test = train_test_split(XX, y, test_size = 0.20)"
   ]
  },
  {
   "cell_type": "code",
   "execution_count": 406,
   "id": "7831a794",
   "metadata": {},
   "outputs": [
    {
     "data": {
      "text/plain": [
       "SVC(C=0.9, kernel='linear')"
      ]
     },
     "execution_count": 406,
     "metadata": {},
     "output_type": "execute_result"
    }
   ],
   "source": [
    "svclassifier = SVC(kernel='linear', C=0.9)\n",
    "svclassifier.fit(X_train, y_train,)"
   ]
  },
  {
   "cell_type": "code",
   "execution_count": 407,
   "id": "7c3d8ec2",
   "metadata": {},
   "outputs": [],
   "source": [
    "y_pred = svclassifier.predict(X_test)"
   ]
  },
  {
   "cell_type": "code",
   "execution_count": 408,
   "id": "91d0de2b",
   "metadata": {},
   "outputs": [
    {
     "name": "stdout",
     "output_type": "stream",
     "text": [
      "The accuracy is: 0.75\n"
     ]
    }
   ],
   "source": [
    "P=confusion_matrix(y_test,y_pred)\n",
    "print(\"The accuracy is:\",(P[0,0]+P[1,1])/(P[0,0]+P[1,1]+P[0,1]+P[1,0]))"
   ]
  },
  {
   "cell_type": "markdown",
   "id": "d6eb29fe",
   "metadata": {},
   "source": [
    "Now I want to see if age and income are enough to create a solid model. Gender and website usage time seems unimportant so I want to see if we can create a good model using only age and area income information."
   ]
  },
  {
   "cell_type": "code",
   "execution_count": 409,
   "id": "07eda511",
   "metadata": {},
   "outputs": [],
   "source": [
    "np.random.seed(42)\n",
    "X_train, X_test, y_train, y_test = train_test_split(XX.iloc[:,0:2], y, test_size = 0.20)"
   ]
  },
  {
   "cell_type": "code",
   "execution_count": 410,
   "id": "62057982",
   "metadata": {},
   "outputs": [
    {
     "data": {
      "text/plain": [
       "SVC(C=0.9, kernel='linear')"
      ]
     },
     "execution_count": 410,
     "metadata": {},
     "output_type": "execute_result"
    }
   ],
   "source": [
    "svclassifier = SVC(kernel='linear', C=0.9)\n",
    "svclassifier.fit(X_train, y_train,)"
   ]
  },
  {
   "cell_type": "code",
   "execution_count": 411,
   "id": "3827ff1e",
   "metadata": {},
   "outputs": [],
   "source": [
    "y_pred = svclassifier.predict(X_test)"
   ]
  },
  {
   "cell_type": "code",
   "execution_count": 412,
   "id": "608560e2",
   "metadata": {},
   "outputs": [
    {
     "name": "stdout",
     "output_type": "stream",
     "text": [
      "The accuracy is: 0.755\n"
     ]
    }
   ],
   "source": [
    "P=confusion_matrix(y_test,y_pred)\n",
    "print(\"The accuracy is:\",(P[0,0]+P[1,1])/(P[0,0]+P[1,1]+P[0,1]+P[1,0]))"
   ]
  },
  {
   "cell_type": "markdown",
   "id": "c18a5c81",
   "metadata": {},
   "source": [
    "# Model Evaluation"
   ]
  },
  {
   "cell_type": "markdown",
   "id": "88eebf81",
   "metadata": {},
   "source": [
    "Model 1, accuracy=0.95\n",
    "Model 2, accuracy=0.75\n",
    "Model 3, accuracy=0.755"
   ]
  },
  {
   "cell_type": "markdown",
   "id": "7cb7e65d",
   "metadata": {},
   "source": [
    "Although we have a clear winner, I would suggest the company to use either Model 1 or Model 3, after more tests. Although model 1 clearly wins, the result could be biased due to multicollinearity. Also, there could be overfitting. Model 3, although it has less accuracy, it makes this prediction using only 2 variables, which means it is more efficient and fast. More tests needed for a decision, however, both models seems to be good at predicting clicking behavior. According to these models, people who are older and live in a lower income area should be targeted for more clicks and more sales. Thanks!!"
   ]
  }
 ],
 "metadata": {
  "kernelspec": {
   "display_name": "Python 3 (ipykernel)",
   "language": "python",
   "name": "python3"
  },
  "language_info": {
   "codemirror_mode": {
    "name": "ipython",
    "version": 3
   },
   "file_extension": ".py",
   "mimetype": "text/x-python",
   "name": "python",
   "nbconvert_exporter": "python",
   "pygments_lexer": "ipython3",
   "version": "3.9.12"
  }
 },
 "nbformat": 4,
 "nbformat_minor": 5
}
